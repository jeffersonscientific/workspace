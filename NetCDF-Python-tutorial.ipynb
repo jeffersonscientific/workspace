{
 "cells": [
  {
   "cell_type": "code",
   "execution_count": 1,
   "metadata": {},
   "outputs": [],
   "source": [
    "%load_ext autoreload\n",
    "%autoreload 2\n",
    "%matplotlib inline\n"
   ]
  },
  {
   "cell_type": "markdown",
   "metadata": {},
   "source": [
    "### A Short (and incomplete) Tutorial of the Python NetCDF/NCL Tutorial\n",
    "- After some soul searching and consternation, NOAA is adopting Python as its official scripting language.\n",
    "- The beloved (or accursed) NCL will be left to history\n",
    "- Sort of. At this time, the Python interface appears to principally be a wrapper around NCL, so that Ngl and Nio are libraries for writing NCL in Python (aka, Python_object.ncl_command() ), so everybody wins.\n",
    "- Here, we show one or more quick, simple examples of reading and writing data to/from files, using the Python-NCL interface.\n",
    "\n",
    "#### Some decent references:\n",
    "- https://unidata.github.io/netcdf4-python/netCDF4/index.html\n",
    "\n"
   ]
  },
  {
   "cell_type": "code",
   "execution_count": 3,
   "metadata": {},
   "outputs": [
    {
     "ename": "ImportError",
     "evalue": "No module named scipy",
     "output_type": "error",
     "traceback": [
      "\u001b[0;31m---------------------------------------------------------------------------\u001b[0m",
      "\u001b[0;31mImportError\u001b[0m                               Traceback (most recent call last)",
      "\u001b[0;32m<ipython-input-3-4d1b339175dc>\u001b[0m in \u001b[0;36m<module>\u001b[0;34m()\u001b[0m\n\u001b[1;32m      6\u001b[0m \u001b[0;32mimport\u001b[0m \u001b[0mpylab\u001b[0m \u001b[0;32mas\u001b[0m \u001b[0mplt\u001b[0m\u001b[0;34m\u001b[0m\u001b[0m\n\u001b[1;32m      7\u001b[0m \u001b[0;32mimport\u001b[0m \u001b[0mnumpy\u001b[0m\u001b[0;34m\u001b[0m\u001b[0m\n\u001b[0;32m----> 8\u001b[0;31m \u001b[0;32mimport\u001b[0m \u001b[0mscipy\u001b[0m\u001b[0;34m\u001b[0m\u001b[0m\n\u001b[0m\u001b[1;32m      9\u001b[0m \u001b[0;32mimport\u001b[0m \u001b[0mscipy\u001b[0m\u001b[0;34m.\u001b[0m\u001b[0mconstants\u001b[0m\u001b[0;34m\u001b[0m\u001b[0m\n\u001b[1;32m     10\u001b[0m \u001b[0;31m#\u001b[0m\u001b[0;34m\u001b[0m\u001b[0;34m\u001b[0m\u001b[0m\n",
      "\u001b[0;31mImportError\u001b[0m: No module named scipy"
     ]
    }
   ],
   "source": [
    "# NCL stuff:\n",
    "#import Ngl\n",
    "import Nio\n",
    "#import pyncl\n",
    "#\n",
    "import pylab as plt\n",
    "import numpy\n",
    "import scipy\n",
    "import scipy.constants\n",
    "#\n",
    "import os,sys\n",
    "#import pathlib\n",
    "import itertools\n",
    "\n",
    "import getpass\n",
    "import subprocess\n",
    "import contextlib\n",
    "\n",
    "def file_report(fin):\n",
    "    # a simple script to print some information about the provided file (-handle)\n",
    "    #\n",
    "    dims = fin.dimensions.values()\n",
    "    dimnames = fin.dimensions.keys()\n",
    "    #\n",
    "    varnames_all = fin.variables.keys()\n",
    "    varnames = [s for s in varnames_all if not s in dimnames]\n",
    "    #\n",
    "    print('** dims: ', list(zip(dimnames, dims)))\n",
    "    #\n",
    "    print('** varnames_all: ', varnames_all)\n",
    "    print('** varnames: ', varnames)\n",
    "    #\n",
    "\n",
    "    print('type(fin.dimensions): ', type(fin.dimensions) )\n",
    "    #\n",
    "    return None\n"
   ]
  },
  {
   "cell_type": "markdown",
   "metadata": {},
   "source": [
    "### Mount network resource (sshfs), if we are working locally from a remote data set\n",
    "- This will be provided for instructinal purposes, but we won't use it in these examples.\n",
    "- This only if we want to pull down a (small) subset of data to our local machine\n",
    "- use subprocess() to mount the remote FS\n",
    "- Note we do * **not** * write our password in code, pull it from a (n unencrypted) data file, etc. In fact, in this script, we don't even write it to a variable\n",
    "- Typically, if you are working on managed resources (aka, your NFS will probably be mounted)"
   ]
  },
  {
   "cell_type": "raw",
   "metadata": {},
   "source": [
    "# Note: a bunch of these variables will not be defined; this pane is just for demonstration purposes.\n",
    "#\n",
    "#do_mount = True\n",
    "do_mount = False\n",
    "#\n",
    "f_mount = os.path.join(os.environ['HOME'], remote_mount_point)\n",
    "print('** fmount: {}'.format(f_mount))\n",
    "#\n",
    "mazama_umount_data = 'umount {}'.format(f_mount)\n",
    "#\n",
    "if do_mount:\n",
    "    # this should work, in principle, but it is not (so far), and maybe for good reasons. I've definitely\n",
    "    #. read taht using the -o password_stdin option sometimes does not work.\n",
    "    #ssh_password = getpass.getpass('ssh password: ')\n",
    "    #\n",
    "    # sshfs cees-tool-7:/data ~/mazama_data -o password_stdin -o volname=mazama_data <<<\n",
    "    #\n",
    "    # set up sshfs call here...source\n",
    "    mazama_mount_data = 'sshfs {}:{} {} -o password_stdin -o volname={} <<< {}'\n",
    "    #\n",
    "    #\n",
    "    #subprocess.call(mkdir_command, shell=True)\n",
    "    subprocess.call(mazama_mount_data.format(remote_host, remote_path, f_mount, remote_volname,\n",
    "                                             getpass.getpass()), shell=True)\n",
    "    #subprocess.call(unmount_command, shell=True)\n",
    "    #\n",
    "    #del ssh_password\n",
    "    #source\n",
    "    print('ls f_mount: \\n', os.listdir(f_mount))\n",
    "\n"
   ]
  },
  {
   "cell_type": "markdown",
   "metadata": {},
   "source": [
    "### Create some data (that look sort of like atmospheric modeling)"
   ]
  },
  {
   "cell_type": "code",
   "execution_count": 10,
   "metadata": {},
   "outputs": [
    {
     "name": "stdout",
     "output_type": "stream",
     "text": [
      "** ** DEBUG: shape:  (100,)\n",
      "** ** DEBUG: shape:  (10,)\n",
      "** ** DEBUG: shape:  (10,)\n",
      "** ** DEBUG: shape:  (20,)\n",
      "** DEBUG: time:  0.0 99.0\n",
      "** DEBUG: lat:  -90.0 90.0\n",
      "file created: \n",
      "** dims:  [('time', 100), ('alt', 10), ('lat', 10), ('lon', 20)]\n",
      "** varnames_all:  dict_keys(['time', 'alt', 'lat', 'lon', 'U'])\n",
      "** varnames:  ['U']\n",
      "type(fin.dimensions):  <class 'dict'>\n",
      "None\n"
     ]
    }
   ],
   "source": [
    "output_file_path = 'pretend_data.nc'\n",
    "my_lats = numpy.linspace(-90., 90, 10)\n",
    "my_lons = numpy.linspace(-180., 180., 20)\n",
    "my_elevs = numpy.arange(0, 10)*1000.\n",
    "n_timesteps=100\n",
    "my_time_steps = numpy.arange(0., n_timesteps)\n",
    "#\n",
    "os.system('rm {}'.format(output_file_path))\n",
    "# do we need to delete the file?\n",
    "with contextlib.closing(Nio.open_file(output_file_path, 'c')) as fout:\n",
    "    #\n",
    "    # defne dimensions (note we can use the scritped syntax below):\n",
    "    fout.create_dimension('time', n_timesteps)\n",
    "    fout.create_dimension('alt', len(my_elevs))\n",
    "    fout.create_dimension('lat', len(my_lats))\n",
    "    fout.create_dimension('lon', len(my_lons))\n",
    "    #\n",
    "    # assign values to dimension variables (using list scripted syntax)\n",
    "    #fout.create_variable('time', 'f', ('time',) )\n",
    "    # NOTE: variables types are 'f' for short(er) float; 'd' for a double, or long float.\n",
    "#     fout.create_variable('lat', 'd', ('lat',))\n",
    "#     fout.create_variable('lon', 'd', ('lon',))\n",
    "#     fout.create_variable('alt', 'd', ('alt',))\n",
    "#     fout.create_variable('time', 'd', ('time',))\n",
    "#     #\n",
    "#     # this breaks (something about types not matching)\n",
    "#     #fout.variables['lat'].assign_value(my_lats[:])\n",
    "#     # these work, but the object does not retain the values.\n",
    "#     fout.variables['lat'][:] = my_lats\n",
    "#     fout.variables['lon'][:] = my_lons\n",
    "#     fout.variables['alt'][:] = my_elevs\n",
    "#     fout.variables['time'][:] = my_time_steps\n",
    "    \n",
    "    for s,x in zip(['time', 'alt', 'lat', 'lon'], [my_time_steps, my_elevs, my_lats, my_lons]):\n",
    "        #print('** {} / {}'.format(s, fout.dimensions[s]))\n",
    "        #\n",
    "        # note: 1) we provide the dimension of the variable as a tuple\n",
    "        #  2) 'f' is a small float, 'd' is a big float (\"double\"); trying to assign 'd' values\n",
    "        #.  into a type 'f' variable may throw an error (as it does in this case)\n",
    "        #fout.create_variable(s, 'f', (s,) )\n",
    "        fout.create_variable(s, 'd', (s,) )\n",
    "        fout.variables[s][:]=x\n",
    "        #print('** DEBUG: var[{}]: {}'.format(s, fout.variables[s]))\n",
    "        print('** ** DEBUG: shape: ', numpy.shape(fout.variables[s]))\n",
    "    #\n",
    "    # Instantiate a data variable.\n",
    "    # outf.create_variable('t','f',('time','lat','lon'))\n",
    "    fout.create_variable('U','d',('time', 'alt', 'lat','lon'))\n",
    "    setattr(fout.variables['U'], 'standard_name', 'pressure')\n",
    "    setattr(fout.variables['U'], 'units', 'kPa')\n",
    "    #\n",
    "    print('** DEBUG: time: ', min(fout.variables['time']), max(fout.variables['time']))\n",
    "    print('** DEBUG: lat: ', min(fout.variables['lat']), max(fout.variables['lat']))\n",
    "    # variable assignment:\n",
    "    # This syntax is required for scaler, non-indexed values (or so I have read):\n",
    "    # fout.variables['u'].assign_value(udum)        # this works if dimensions align\n",
    "    #. we can also use it for arrays, but only if we are assigning the whole value -- in other words, the \n",
    "    #. dimensinos must match. (this works if dim(udum)==dim(fout)). I assume the exception is if the output\n",
    "    #. dimension is undefined, all other dimensions must match.\n",
    "    #\n",
    "    # For batched assignment, we can use:\n",
    "    # fout.variables['u'][0:len(udum)] = udum      # use this for partial assignment (note, i think this does allow \n",
    "    #                                            # (aka, will expand) for overflow -- [k,j] > len(fout.variable) )\n",
    "    #  if the dimenstions match, we can use this syntax without \"slice\" indices.\n",
    "    #\n",
    "    # and we might want to close the file here:\n",
    "    print('file created: ')\n",
    "    print(file_report(fout))\n",
    "    #fout.close()\n",
    "#"
   ]
  },
  {
   "cell_type": "code",
   "execution_count": 4,
   "metadata": {},
   "outputs": [],
   "source": [
    "# Assign some values:\n",
    "# NOTE: we could have done this during the 'create' phase, but we want to demonstrate \n",
    "#. opening and closing.\n",
    "with contextlib.closing(Nio.open_file(output_file_path, 'r+')) as fout:\n",
    "    #\n",
    "    # if we just want to make our code work, we can do this:\n",
    "    #fout.variables['U'] = numpy.random.random(size=list(fout.dimensions.values()))\n",
    "    ##\n",
    "    ## and even slightly differentiate the layers:\n",
    "    ## add the index value to each altitude layer, so each layer is ~ 0+u, 1+u, 2+u, ...\n",
    "    ##. (where u is a random number).\n",
    "    #for k in range(0, fout.dimensions['alt']):\n",
    "    #    fout.variables['U'][:,k,:,:] += k\n",
    "    #\n",
    "    # A more interesting example, fromm which we can make some pretty pictures:\n",
    "    # compute some periodic constants:\n",
    "    T_x = scipy.constants.pi/(max(fout.variables['lon']) - min(fout.variables['lon']))\n",
    "    T_y = scipy.constants.pi/(max(fout.variables['lat']) - min(fout.variables['lat']))\n",
    "    T_t = 2.*scipy.constants.pi/(max(fout.variables['time']) - min(fout.variables['time']))\n",
    "    N_pi = numpy.arange(1, fout.dimensions['alt']+1,1)\n",
    "    #\n",
    "    #print('** DEBUG Ts: ', T_x, T_y, N_pi)\n",
    "    #print('** DEBUG: T_t: ', min(fout.variables['time']) , max(fout.variables['time']))\n",
    "    #print('** DEBUG: time2: ', min(fout.variables['time']), max(fout.variables['time']))\n",
    "    #\n",
    "    # Populate the array:\n",
    "    # For 2D arrays, we can use numpy.meshgrid(Xs, Ys) to get a dense n_x x n_y array, but\n",
    "    #. I don't think there is a 2D abstraction. We want to avoid a fully nested loop, unless\n",
    "    #. memory is a restriction.\n",
    "    #\n",
    "    XX, YY = numpy.array(numpy.meshgrid( fout.variables['lon'], fout.variables['lat']) )\n",
    "    XX *= T_x\n",
    "    YY *= T_y\n",
    "    #\n",
    "    # there's a faster, numpy way to do this (rebroadcast as cartesian dimensions), but I'm just going to\n",
    "    #. get it done. (can you meshgrid() nested objects?\n",
    "    #\n",
    "    #print('*** shape:', numpy.shape(fout.variables['U']))\n",
    "    #\n",
    "    # we can probably do this more efficiently using numpy.outer(X,Y); we can nest numpy.outer()\n",
    "    #. calls, and then reshpae(), xx = numpy.outer(X, numpy.outer(Y,Z)).reshape(len(X), len(Y), len(Z)))\n",
    "    #\n",
    "    #\n",
    "    for (k_t, phi),k_z in itertools.product(enumerate(fout.variables['time']*T_t), N_pi):\n",
    "        #\n",
    "        #print('** ** ', k_t, phi, k_z)\n",
    "        #zs = numpy.cos(k_z*XX + phi)*numpy.sin(k_z*YY + phi)\n",
    "        #print('** DEBUG: zs: ', numpy.shape(zs))\n",
    "        fout.variables['U'][k_t, k_z, :,:] = numpy.cos(k_z*XX + phi)*numpy.sin(k_z*YY + phi)\n",
    "        \n",
    "        #if k_z>5: break\n",
    "#\n"
   ]
  },
  {
   "cell_type": "code",
   "execution_count": 8,
   "metadata": {},
   "outputs": [
    {
     "data": {
      "image/png": "[encoded data removed]",
      "text/plain": [
       "<Figure size 1152x864 with 4 Axes>"
      ]
     },
     "metadata": {
      "needs_background": "light"
     },
     "output_type": "display_data"
    }
   ],
   "source": [
    "fg = plt.figure(figsize=(16,12))\n",
    "axes = [plt.subplot(2,2,k+1) for k in range(4)]\n",
    "#\n",
    "with contextlib.closing(Nio.open_file(output_file_path, 'r')) as fin:\n",
    "    #\n",
    "    axes[0].imshow(fin.variables['U'][0,1,:,:])\n",
    "    axes[1].imshow(fin.variables['U'][0,7,:,:])\n",
    "    axes[2].imshow(fin.variables['U'][10,1,:,:])\n",
    "    axes[3].imshow(fin.variables['U'][10,7,:,:])"
   ]
  },
  {
   "cell_type": "code",
   "execution_count": 17,
   "metadata": {},
   "outputs": [
    {
     "name": "stdout",
     "output_type": "stream",
     "text": [
      "**  [[ 0  0  0  0]\n",
      " [ 0  1  2  3]\n",
      " [ 0  2  4  6]\n",
      " [ 0  3  6  9]\n",
      " [ 0  4  8 12]]\n",
      "***  [[[ 0  0  0  0]\n",
      "  [ 0  0  0  0]\n",
      "  [ 0  0  0  0]\n",
      "  [ 0  0  0  0]\n",
      "  [ 0  0  0  0]]\n",
      "\n",
      " [[ 0  0  0  0]\n",
      "  [ 0  1  2  3]\n",
      "  [ 0  2  4  6]\n",
      "  [ 0  3  6  9]\n",
      "  [ 0  4  8 12]]\n",
      "\n",
      " [[ 0  0  0  0]\n",
      "  [ 0  2  4  6]\n",
      "  [ 0  4  8 12]\n",
      "  [ 0  6 12 18]\n",
      "  [ 0  8 16 24]]]\n",
      "shape:  (3, 5, 4)\n"
     ]
    }
   ],
   "source": [
    "X = numpy.outer(numpy.arange(5), numpy.arange(4))\n",
    "print('** ', X)\n",
    "XZ = numpy.outer(numpy.arange(3), X).reshape((3,5,4))\n",
    "print('*** ', XZ)\n",
    "print('shape: ', XZ.shape)\n",
    "#\n",
    "# XX,YY = numpy.array(numpy.meshgrid(numpy.arange(5), numpy.arange(10)))\n",
    "# print('** ', XX.shape)\n",
    "# print('** ', XX)\n",
    "# #print('** ', YY)\n",
    "\n",
    "# print('** ** \\n', numpy.outer(numpy.ones(2),XX) )\n",
    "\n",
    "# #with contextlib.closing(Nio.open_file(output_file_path, 'r+')) as fout:\n",
    "# #    print('dims: ', fout.dimensions)\n",
    "\n",
    "\n",
    "\n",
    "# #f = Nio.open_file(output_file_path, 'r')\n",
    "# #print('dims: ', f.dimensions)"
   ]
  },
  {
   "cell_type": "markdown",
   "metadata": {},
   "source": [
    "### Examine the file\n",
    "- What are the data dimensions? Internally, this is a dictionary of dimension names and integer sizes\n",
    "    - So note that it also has properties keys() and values()\n",
    "- What is the shape of our pincipal data element, $U$?\n",
    "    - Note that we want to have constructed it so that time, alt, lat, lon are coordinates."
   ]
  },
  {
   "cell_type": "code",
   "execution_count": null,
   "metadata": {},
   "outputs": [],
   "source": [
    "with contextlib.closing(Nio.open_file(output_file_path, 'r+')) as f:\n",
    "    print('dims: ', f.dimensions)\n",
    "    print('shape: ', f.variables['U'].shape)\n",
    "    print('** ', f.variables['U'])\n",
    "\n",
    "    print('** ', f.dimensions.values())\n",
    "    #f.close()\n",
    "    print('** **: ', f.dimensions['alt'])"
   ]
  },
  {
   "cell_type": "code",
   "execution_count": null,
   "metadata": {},
   "outputs": [],
   "source": [
    "# NOTE: probably need to connect (sshfs) to NFS (sshfs cees-tool-7:/data {f_mount})\n",
    "input_file_path = 'ESS/regirock/cesm_archive/Rachel/U_V_T_Z3_plWACCMSC_CTL_122.cam.h2.0001-0202.nc'\n",
    "output_file_path = 'my_output.nc'\n",
    "#\n",
    "#f_mount = 'tmp'\n",
    "input_file_path = os.path.join(f_mount, input_file_path)\n",
    "#input_file_path = os.path.join(os.environ['HOME'], input_file_path)\n",
    "\n",
    "#\n",
    "print('** pth_name: {}'.format(input_file_path))\n",
    "\n",
    "#\n",
    "#\n",
    "# # we can also use pathlib to construct the path, but it does not really gain us much.\n",
    "# #  nominally, we should construct the path from an orderd list of parts ['mazama_data', 'ESS', ...]\n",
    "# #. and then .join() them, in the event that sommebody tries this from Windows. But for now,\n",
    "# #. we'll let Windows usiers fix it themselves (if need be)...\n",
    "#\n",
    "# TODO: reorganize using a context manager. Nio.open_file() will not take a CM directly, but we \n",
    "#. can make one using contextlib:\n",
    "# with contextlib.closing(Nio.open_file(input_file_path, 'r')) as fin:\n",
    "#.  etc...\n",
    "#.  etc...\n",
    "# open the file; use a context handler:\n",
    "# ... or maybe not. seems to not be compatible...\n",
    "#\n",
    "fin = Nio.open_file(input_file_path, 'r')\n",
    "#"
   ]
  },
  {
   "cell_type": "markdown",
   "metadata": {},
   "source": [
    "### Data properties\n",
    "- We've opend a data file handle...\n",
    "- Now, let's look at some properties of the data set:\n",
    "    - dimension and dimension names\n",
    "    - Note that rank is the size of the dimensions array (dimensions of dimensions)\n",
    "    - Note also the distinction between dimensions and variables. \n",
    "    - From a strict data-modeling standpoint, this is sort of silly, but it makes sense that it is the minimum (maximum?) level of slicing. After the dimensions, are attributes that group together... sort of.\n",
    "    \n",
    "   "
   ]
  },
  {
   "cell_type": "code",
   "execution_count": null,
   "metadata": {},
   "outputs": [],
   "source": [
    "\n",
    "#\n",
    "file_report(fin)"
   ]
  },
  {
   "cell_type": "code",
   "execution_count": null,
   "metadata": {},
   "outputs": [],
   "source": [
    "# note that the lat and lon variables are small (they are basically just indices):\n",
    "lats = fin.variables['lat']\n",
    "lons = fin.variables['lon']\n",
    "#p_levs = fin.variables['lev_p']\n",
    "p10 = fin.variables['lev_p'][2]\n",
    "#\n",
    "print('lats: ', [y for y in lats])\n",
    "print('lons: ', [x for x in lons])\n",
    "print('p10: ', p10)\n",
    "tm   = fin.variables['time']\n",
    "print('len(time): ', len(tm))\n",
    "#print('p_levs: ', [p for p in p_levs])"
   ]
  },
  {
   "cell_type": "markdown",
   "metadata": {},
   "source": [
    "### Subsetting the raw data\n",
    "- Open the raw/source data file (already done!)\n",
    "- Take some 'slice' of our variable of interest"
   ]
  },
  {
   "cell_type": "code",
   "execution_count": null,
   "metadata": {},
   "outputs": [],
   "source": [
    "\n",
    "# TODO: set up batching, and see if we can use a += syntax when we write to the output file.\n",
    "batch_size = 100\n",
    "udum = fin.variables['U'][0:batch_size, 2,:,:]\n",
    "# we can get a second (subsequent) slice like this:\n",
    "udum2 = fin.variables['U'][len(udum):len(udum)+batch_size, 2,:,:]\n",
    "#\n",
    "print('udum: ')\n",
    "print(len(udum))\n",
    "print('** ', udum.shape)\n",
    "#\n",
    "#\n",
    "print('udum2: ')\n",
    "print(len(udum2))\n",
    "print('** ', udum2.shape)\n",
    "\n"
   ]
  },
  {
   "cell_type": "markdown",
   "metadata": {},
   "source": [
    "### Export a subset of the data or a derived data set:\n",
    "- Create a file for export\n",
    "- Note that there are good and bad ways to do this (usually trading code complexity for speed)\n",
    "- For optimal speed, we pre-define as much of the output as possible\n",
    "- For simplicity, we might leave our principal dimension undefined -- or something like that.\n",
    "- Note: we can open our file in modes; {'c': create,'r': read, {'w', 'r+', 'a', ???}: read+, append, write} \n",
    "\n",
    "#### What We are Going to Do:\n",
    "- Create the output file\n",
    "- Discuss in comments some file-writng methods, strategies, etc.\n",
    "- Then do the file writing (exporting) in the following pane.\n"
   ]
  },
  {
   "cell_type": "code",
   "execution_count": null,
   "metadata": {},
   "outputs": [],
   "source": [
    "# create the file. define everything!\n",
    "#\n",
    "#\n",
    "# time dimension size:\n",
    "# we can get the full dimension size, if we are going to write the whole lot;\n",
    "# otherwise, maybe just a subset?\n",
    "#n_time = fin.dimensions['time']\n",
    "# assume we'll take 10 iterations (or so)\n",
    "n_batches = 10\n",
    "n_time = n_batches*batch_size\n",
    "#\n",
    "os.system('rm {}'.format(output_file_path))\n",
    "# do we need to delete the file?\n",
    "with contextlib.closing(Nio.open_file(output_file_path, 'c')) as fout:\n",
    "    #fout = Nio.open_file(output_file_path, 'c')\n",
    "    fout.create_dimension('time', n_time)\n",
    "    fout.create_dimension('lat', fin.dimensions['lat'])\n",
    "    fout.create_dimension('lon', fin.dimensions['lon'])\n",
    "    #\n",
    "    fout.create_variable('U','f',('time','lat','lon'))\n",
    "    setattr(fout.variables['U'], 'standard_name', 'pressure')\n",
    "    setattr(fout.variables['U'], 'units', 'kPa')\n",
    "    #\n",
    "    # The top syntax is required for scaler, non-indexed values (or so I have read).\n",
    "    #. we can also use it for arrays, but only if we are assigning the whole value -- in other words, the \n",
    "    #. dimensinos must match. (this works if dim(udum)==dim(fout)). I assume the exception is if the output\n",
    "    #. dimension is undefined.\n",
    "    #\n",
    "    #fout.variables['u'].assign_value(udum)        # this works if dimensions align\n",
    "    #fout.variables['u'][0:len(udum)] = udum      # use this for partial assignment (note, i think this does allow \n",
    "    #                                            # (aka, will expand) for overflow -- [k,j] > len(fout.variable) )\n",
    "    #\n",
    "    # if this is going to take a long time, it might be smart to close and explicitly bufer.\n",
    "\n",
    "    #\n",
    "    # and we might want to close the file here:\n",
    "    print('file created: ')\n",
    "    print(file_report(fout))\n",
    "    #fout.close()\n",
    "#"
   ]
  },
  {
   "cell_type": "code",
   "execution_count": null,
   "metadata": {},
   "outputs": [],
   "source": [
    "# check our work. What have we written?\n",
    "with contextlib.closing(Nio.open_file(output_file_path, 'r')) as fin_check:\n",
    "    print('Some File Info: {}'.format(output_file_path))\n",
    "    print(file_report(fin_check))\n",
    "    #\n",
    "    fin_check.close()"
   ]
  },
  {
   "cell_type": "markdown",
   "metadata": {},
   "source": [
    "### Writing to the file\n",
    "- Our basic operation is:\n",
    "    - Read a batch of data from the source file (fin)\n",
    "    - Do whatever we need to do to said data\n",
    "    - Write something (in this case, just the data) to the output file\n",
    "- We have soeme choices:\n",
    "    - Buffer to a memory variable (aka, read into a local memory variable, then write that variable to output)\n",
    "    - Internal buffers only (fout.variables[my_var_out][k:j] = fin.variables[my_var_in][l:m] )\n",
    "        - For simple data transfers, this is probaby the best approach. In fact, we can probably skip batching, since the NetCDF objects are probably smart enough to manage memory.\n",
    "    - Parallelization: \n",
    "        - Depending on where latency occurs, etc., there may be opportunity to speed this up via reading and writing in parallel channels. Basically, run separate threads over a set of index ranges.\n",
    "        - Also, for simple filering or processing, the data transfer may be slow enough that it would make sense to parallelize the read/process steps (aka, extract a batch; submit to a processing thread, extract the next bit).\n"
   ]
  },
  {
   "cell_type": "code",
   "execution_count": null,
   "metadata": {},
   "outputs": [],
   "source": [
    "# First, demonstrate read/write with batches. It will be important to understand how to do this if we ever want\n",
    "#. to do something more complicated that a straight transfer or simple filter.\n",
    "# note: we don't need the same batch sizes:\n",
    "batch_size_write = 200\n",
    "n_batches = int(numpy.ceil(n_time)/batch_size_write)\n",
    "#\n",
    "print('*** writing {} batches, of size {} (last batch might be smaller)'.format(n_batches, batch_size_write))"
   ]
  },
  {
   "cell_type": "code",
   "execution_count": null,
   "metadata": {},
   "outputs": [],
   "source": [
    "#\n",
    "# fib should already be open:\n",
    "#fin = Nio.open_file(input_file_path, 'r')\n",
    "#\n",
    "with contextlib.closing(Nio.open_file(output_file_path, 'a')) as fout:\n",
    "    # 'a', 'w', 'r+' all mean (read, write/append)\n",
    "    #\n",
    "    # extract data like: udum = fin.variables['U'][0:batch_size, 2,:,:]\n",
    "    for j,k in enumerate(range(0, n_time, batch_size_write)):\n",
    "        #print('** ** [{}:{}]'.format(k, k+batch_size_write))\n",
    "        #\n",
    "        # remember, our read-data are like:\n",
    "        # udum = fin.variables['U'][0:batch_size, 2,:,:]\n",
    "        # and we're making out output file more or less a mirror of that:\n",
    "        # note: we never explicilty store the data in a local variable; the memory footprint\n",
    "        #. is determined entirely by the NetCDF class, so really we can probably do this in one batch...\n",
    "        #  unless we want to parallelize, in which case we can run each of thsed batches an a Process() thread,\n",
    "        # in a Queue(), Pool(), etc.\n",
    "        print('begin k={}/{} batches.'.format(j, n_batches))\n",
    "        fout.variables['U'][k:k+batch_size_write] = fin.variables['U'][k:k+batch_size_write, 2,:,:]\n",
    "#\n",
    "fin.close()"
   ]
  },
  {
   "cell_type": "code",
   "execution_count": null,
   "metadata": {},
   "outputs": [],
   "source": [
    "with contextlib.closing(Nio.open_file(output_file_path, 'r')) as f:\n",
    "    print('shape subset file: ', f.variables['U'].shape)\n",
    "#\n",
    "#print('shape input file: ', fin.variables['U'].shape)\n",
    "print('shape our slice: ', fin.variables['U'][:,2,:,:].shape)\n",
    "print('shape input file: ', fin.variables['U'].shape)"
   ]
  },
  {
   "cell_type": "code",
   "execution_count": null,
   "metadata": {},
   "outputs": [],
   "source": [
    "file_report(fin)\n"
   ]
  },
  {
   "cell_type": "code",
   "execution_count": null,
   "metadata": {},
   "outputs": [],
   "source": []
  },
  {
   "cell_type": "code",
   "execution_count": null,
   "metadata": {},
   "outputs": [],
   "source": [
    "import os\n",
    "import numpy as np\n",
    "import Ngl,Nio\n",
    "\n",
    "#--  data file name\n",
    "fname  = \"data/rectilinear_grid_3D.nc\"\n",
    "\n",
    "#-- open file\n",
    "f = Nio.open_file(fname, \"r\")\n",
    "\n",
    "#-- read temperature, time, latitude and longitude arrays\n",
    "var  = f.variables[\"t\"]\n",
    "time = f.variables[\"time\"]\n",
    "lat  = f.variables[\"lat\"]\n",
    "lon  = f.variables[\"lon\"]\n",
    "\n",
    "#-- convert data from units Kelvin to degC\n",
    "varC       =  var[:,0,:,:]              #-- copy variable at level=0; retain metadata\n",
    "varC       =  varC-273.15               #-- convert to degC\n",
    "\n",
    "#-- open new netCDF file\n",
    "os.system(\"rm -rf t_degC_py_short.nc\")     #-- delete file if it exists\n",
    "outf = Nio.open_file(\"t_degC_py_short.nc\",\"c\")   #-- open new netCDF file\n",
    "#\n",
    "#-- create dimensions\n",
    "outf.create_dimension('time',None)\n",
    "outf.create_dimension('lat',f.dimensions['lat'])\n",
    "outf.create_dimension('lon',f.dimensions['lon'])\n",
    "#\n",
    "#-- create dimension variables\n",
    "#outf.create_variable('time',time.typecode(),time.dimensions)\n",
    "#outf.create_variable('lat',lat.typecode(),lat.dimensions)\n",
    "#outf.create_variable('lon',lon.typecode(),lon.dimensions)\n",
    "outf.create_variable('time','f',time.dimensions)\n",
    "outf.create_variable('lat','f', lat.dimensions)\n",
    "outf.create_variable('lon','f',lon.dimensions)\n",
    "\n",
    "\n",
    "#\n",
    "#-- create variable\n",
    "outf.create_variable('t','f',('time','lat','lon'))\n",
    "#\n",
    "#-- assign values --> write data to file\n",
    "# outf.variables['time'].assign_value(time)\n",
    "# outf.variables['lat'].assign_value(lat)\n",
    "# outf.variables['lon'].assign_value(lon)\n",
    "# outf.variables['t'].assign_value(varC)\n",
    "#\n",
    "outf.variables['time'] = time\n",
    "outf.variables['lat'] = lat\n",
    "outf.variables['lon'] = lon\n",
    "outf.variables['t'] = varC\n",
    "\n",
    "#-- close output stream (not necessary)\n",
    "outf.close()"
   ]
  },
  {
   "cell_type": "code",
   "execution_count": null,
   "metadata": {},
   "outputs": [],
   "source": [
    "with contextlib.closing(Nio.open_file(fname, 'r')) as f:\n",
    "    print('** **: ', f.variables['t'])"
   ]
  },
  {
   "cell_type": "code",
   "execution_count": null,
   "metadata": {},
   "outputs": [],
   "source": [
    "print('** ', time.dimensions)"
   ]
  },
  {
   "cell_type": "code",
   "execution_count": null,
   "metadata": {},
   "outputs": [],
   "source": [
    "x = numpy.linspace(0,1,10)\n",
    "y = numpy.linspace(0,1,20)\n",
    "print(x)\n",
    "print(y)\n",
    "#\n",
    "print((x.reshape(1,-1)*y.reshape(1,-1)).shape)"
   ]
  },
  {
   "cell_type": "code",
   "execution_count": null,
   "metadata": {},
   "outputs": [],
   "source": []
  }
 ],
 "metadata": {
  "kernelspec": {
   "display_name": "Python [conda env:ncl_stable]",
   "language": "python",
   "name": "conda-env-ncl_stable-py"
  },
  "language_info": {
   "codemirror_mode": {
    "name": "ipython",
    "version": 2
   },
   "file_extension": ".py",
   "mimetype": "text/x-python",
   "name": "python",
   "nbconvert_exporter": "python",
   "pygments_lexer": "ipython2",
   "version": "2.7.16"
  }
 },
 "nbformat": 4,
 "nbformat_minor": 2
}
