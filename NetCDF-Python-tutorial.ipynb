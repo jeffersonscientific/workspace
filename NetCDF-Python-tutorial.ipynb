{
 "cells": [
  {
   "cell_type": "code",
   "execution_count": 28,
   "metadata": {},
   "outputs": [
    {
     "name": "stdout",
     "output_type": "stream",
     "text": [
      "The autoreload extension is already loaded. To reload it, use:\n",
      "  %reload_ext autoreload\n"
     ]
    }
   ],
   "source": [
    "%load_ext autoreload\n",
    "%autoreload 2\n",
    "%matplotlib inline\n"
   ]
  },
  {
   "cell_type": "markdown",
   "metadata": {},
   "source": [
    "##### Principal Author: Mark R. Yoder, Ph.D.\n",
    "- Email: \n",
    "    - mark.yoder@gmail.com\n",
    "    - myoder96@stanford.edu\n",
    "\n",
    "\n",
    "### A Short (and incomplete) Tutorial of the Python NetCDF/NCL Tutorial\n",
    "- After some soul searching and consternation, NOAA is adopting Python as its official scripting language.\n",
    "- The beloved (or accursed) NCL will be left to history\n",
    "- Sort of. At this time, the Python interface appears to principally be a wrapper around NCL, so that Ngl and Nio are libraries for writing NCL in Python (aka, Python_object.ncl_command() ), so everybody wins.\n",
    "- Here, we show one or more quick, simple examples of reading and writing data to/from files, using the Python-NCL interface.\n",
    "\n",
    "### Overview of NCL Libraries [Nio (pynio), Ngl (pyngl)] , etc.\n",
    "- If we are using NCL, as a command-line language, we typicall install it, doing something like:\n",
    "    - conda create env -n ncl_stable -c conda-forge ncl\n",
    "        - which creates the environment named *ncl_stable*, and then installs the library *ncl* from the channel *conda-forge*\n",
    "        - This does **not** (I don't think) install the Python hooks. The good news there is that (I don't think) we need *ncl* to use the Python libraries\n",
    "- NCL is accessed in Python via the PyNIO (IO ops) and PyNGL (graphing) libraries. They can be installed *without ncl*, like:\n",
    "    - \\$ conda create --name pynio_env --channel conda-forge pynio pyngl\n",
    "    - or, if we don't want/need to create a whole new environment,\n",
    "    - \\$ conda install pynio\n",
    "    - \\$ conda install pyngl\n",
    "- This is nominally advantageous, because the pynio and pygl installation should be smaller than the full ncl installation (though it might not be), and it is very likely far less contentious with other libraries (ncl will likely require a dedicated environment)\n",
    "- Some references:\n",
    "    - PyNIO and PyNGL general: https://www.pyngl.ucar.edu/Examples/index.shtml\n",
    "    - PyNIO reff: https://www.pyngl.ucar.edu/Nio.shtml\n",
    "    - GitHub pynio: https://github.com/NCAR/pynio\n",
    "    - GitHub pyngl: https://github.com/NCAR/pyngl\n",
    "#### Some decent references:\n",
    "- https://unidata.github.io/netcdf4-python/netCDF4/index.html\n",
    "#### Some comments:\n",
    "- I wrestled a while with an error importing Ngl; something about the *libgforgran3* library not being availablel.\n",
    "- It wasn't. One way or another (mabe because of a recent conda update), it was installing libgfortran4.x.x into that environment. Nio was fine with that, but Ngl would not have it. \n",
    "- I solved it via: \\$ conda install libgfortran=3\n",
    "- Note this can be added into the environment create (if you are making an enviornment), but doind so may not give these libraries the option to evolve (with developers' assistance) to use the newer libfortran.\n",
    "\n",
    "### NetCDF libraries (netcdf4):\n",
    "- Nio can handle a variety of data formats\n",
    "- In this example, we use a NetCDF format.\n",
    "- This begs the question, should we be using Nio or netCDF4 to open and handle the file?\n",
    "- This nominally really is a question. My guess at this time is that the Nio object may be better, or required, to use Ngl, but if we're not explicitly using NCL, netCDF4 might be a better choice.\n",
    "- We'll demo neCDF4 in this notebook, but for some installations of Python, this might be a problem (pynio and pyngl might (need to) be installed under different environments).\n"
   ]
  },
  {
   "cell_type": "code",
   "execution_count": 29,
   "metadata": {},
   "outputs": [],
   "source": [
    "#\n",
    "import pylab as plt\n",
    "import numpy\n",
    "import scipy\n",
    "import scipy.constants\n",
    "#\n",
    "import os,sys\n",
    "#import pathlib\n",
    "import itertools\n",
    "\n",
    "import getpass\n",
    "import subprocess\n",
    "import contextlib"
   ]
  },
  {
   "cell_type": "markdown",
   "metadata": {},
   "source": [
    "#### NCL Version:"
   ]
  },
  {
   "cell_type": "code",
   "execution_count": 30,
   "metadata": {},
   "outputs": [],
   "source": [
    "# NCL stuff:\n",
    "#import Ngl\n",
    "import Nio\n",
    "#\n",
    "try:\n",
    "    import Ngl\n",
    "except Exception as e:\n",
    "    # it seems a possibly common problem is a libgfortran mismatch.\n",
    "    # when I set up an environment with Nio and Ngl (currently on a Mac OSX system),\n",
    "    #. it installs libgfortran.4.x.x, which is fine by Nio, but Ngl is specifically \n",
    "    #. looking for a libgfortran.3.x.x. not sure, at this time, if this is an oversite\n",
    "    #. in the indexing/configuration, or if Ngl really needs v3.x. explicitly installing,\n",
    "    #. or creating the environment, wiht libgfortran=3 seems to help it work...\n",
    "    #\n",
    "    print('*** Warning: import Ngl failed with: {}'. format (e))\n",
    "\n",
    "def file_report(fin):\n",
    "    # a simple script to print some information about the provided file (-handle)\n",
    "    #\n",
    "    dims = fin.dimensions.values()\n",
    "    dimnames = fin.dimensions.keys()\n",
    "    #\n",
    "    varnames_all = fin.variables.keys()\n",
    "    varnames = [s for s in varnames_all if not s in dimnames]\n",
    "    #\n",
    "    print('** dims: ', list(zip(dimnames, dims)))\n",
    "    #\n",
    "    print('** varnames_all: ', varnames_all)\n",
    "    print('** varnames: ', varnames)\n",
    "    #\n",
    "\n",
    "    print('type(fin.dimensions): ', type(fin.dimensions) )\n",
    "    #\n",
    "    return None"
   ]
  },
  {
   "cell_type": "markdown",
   "metadata": {},
   "source": [
    "### Mount network resource (sshfs), if we are working locally from a remote data set\n",
    "- This will be provided for instructinal purposes, but we won't use it in these examples.\n",
    "- Clearly, this example is written with reference to a specific HPC system -- the Stanford Earth Mazama cluster.\n",
    "- This only if we want to pull down a (small) subset of data -- to our local machine, from a remote host\n",
    "- use subprocess() to mount the remote FS via sshfs\n",
    "- Note we do * **not** * write our passwords in code, pull it from a (n unencrypted) data file, etc. In fact, in this script, we don't even write it to a variable\n",
    "    - Note that something like *my_pwd = getpass.getpass()* will populate my_pwd with a clear text (not encrypted) copy of whatever you type into the prompt, so even this is not recommended.\n",
    "    - If you must store a password, Python has tons of good, super easy to use, encryption libraries. Somewhere, I probably have sample code that I would be happy to share.\n",
    "- Typically, if you are working on managed resources (aka, your NFS will probably be mounted)"
   ]
  },
  {
   "cell_type": "raw",
   "metadata": {},
   "source": [
    "# Note: a bunch of these variables will not be defined; this pane is just for demonstration purposes.\n",
    "#\n",
    "#do_mount = True\n",
    "do_mount = False\n",
    "#\n",
    "f_mount = os.path.join(os.environ['HOME'], remote_mount_point)\n",
    "print('** fmount: {}'.format(f_mount))\n",
    "#\n",
    "mazama_umount_data = 'umount {}'.format(f_mount)\n",
    "#\n",
    "if do_mount:\n",
    "    # this should work, in principle, but it is not (so far), and maybe for good reasons. I've definitely\n",
    "    #. read taht using the -o password_stdin option sometimes does not work.\n",
    "    #ssh_password = getpass.getpass('ssh password: ')\n",
    "    #\n",
    "    # sshfs cees-tool-7:/data ~/mazama_data -o password_stdin -o volname=mazama_data <<<\n",
    "    #\n",
    "    # set up sshfs call here...source\n",
    "    mazama_mount_data = 'sshfs {}:{} {} -o password_stdin -o volname={} <<< {}'\n",
    "    #\n",
    "    #\n",
    "    #subprocess.call(mkdir_command, shell=True)\n",
    "    subprocess.call(mazama_mount_data.format(remote_host, remote_path, f_mount, remote_volname,\n",
    "                                             getpass.getpass()), shell=True)\n",
    "    #subprocess.call(unmount_command, shell=True)\n",
    "    #\n",
    "    #del ssh_password\n",
    "    #source\n",
    "    print('ls f_mount: \\n', os.listdir(f_mount))\n",
    "\n"
   ]
  },
  {
   "cell_type": "markdown",
   "metadata": {},
   "source": [
    "### Create some data (that look sort of like atmospheric modeling)"
   ]
  },
  {
   "cell_type": "code",
   "execution_count": 31,
   "metadata": {},
   "outputs": [
    {
     "name": "stdout",
     "output_type": "stream",
     "text": [
      "** ** DEBUG: shape:  (100,)\n",
      "** ** DEBUG: shape:  (10,)\n",
      "** ** DEBUG: shape:  (10,)\n",
      "** ** DEBUG: shape:  (20,)\n",
      "** DEBUG: time:  0.0 99.0\n",
      "** DEBUG: lat:  -90.0 90.0\n",
      "file created: \n",
      "** dims:  [('time', 100), ('alt', 10), ('lat', 10), ('lon', 20)]\n",
      "** varnames_all:  dict_keys(['time', 'alt', 'lat', 'lon', 'U'])\n",
      "** varnames:  ['U']\n",
      "type(fin.dimensions):  <class 'dict'>\n",
      "None\n"
     ]
    }
   ],
   "source": [
    "#### output_file_path = 'pretend_data.nc'\n",
    "my_lats = numpy.linspace(-90., 90, 10)\n",
    "my_lons = numpy.linspace(-180., 180., 20)\n",
    "my_elevs = numpy.arange(0, 10)*1000.\n",
    "n_timesteps=100\n",
    "my_time_steps = numpy.arange(0., n_timesteps)\n",
    "#\n",
    "if os.path.isfile(output_file_path):\n",
    "    os.system('rm {}'.format(output_file_path))\n",
    "#\n",
    "# do we need to delete the file?\n",
    "with contextlib.closing(Nio.open_file(output_file_path, 'c')) as fout:\n",
    "    #\n",
    "    # defne dimensions (note we can use the scritped syntax below):\n",
    "    fout.create_dimension('time', n_timesteps)\n",
    "    fout.create_dimension('alt', len(my_elevs))\n",
    "    fout.create_dimension('lat', len(my_lats))\n",
    "    fout.create_dimension('lon', len(my_lons))\n",
    "    #\n",
    "    # assign values to dimension variables (using list scripted syntax)\n",
    "    #fout.create_variable('time', 'f', ('time',) )\n",
    "    # NOTE: variables types are 'f' for short(er) float; 'd' for a double, or long float.\n",
    "#     fout.create_variable('lat', 'd', ('lat',))\n",
    "#     fout.create_variable('lon', 'd', ('lon',))\n",
    "#     fout.create_variable('alt', 'd', ('alt',))\n",
    "#     fout.create_variable('time', 'd', ('time',))\n",
    "#     #\n",
    "#     # this breaks (something about types not matching)\n",
    "#     #fout.variables['lat'].assign_value(my_lats[:])\n",
    "#     # these work, but the object does not retain the values.\n",
    "#     fout.variables['lat'][:] = my_lats\n",
    "#     fout.variables['lon'][:] = my_lons\n",
    "#     fout.variables['alt'][:] = my_elevs\n",
    "#     fout.variables['time'][:] = my_time_steps\n",
    "    \n",
    "    for s,x in zip(['time', 'alt', 'lat', 'lon'], [my_time_steps, my_elevs, my_lats, my_lons]):\n",
    "        #print('** {} / {}'.format(s, fout.dimensions[s]))\n",
    "        #\n",
    "        # note: 1) we provide the dimension of the variable as a tuple\n",
    "        #  2) 'f' is a small float, 'd' is a big float (\"double\"); trying to assign 'd' values\n",
    "        #.  into a type 'f' variable may throw an error (as it does in this case)\n",
    "        #fout.create_variable(s, 'f', (s,) )\n",
    "        fout.create_variable(s, 'd', (s,) )\n",
    "        fout.variables[s][:]=x\n",
    "        #print('** DEBUG: var[{}]: {}'.format(s, fout.variables[s]))\n",
    "        print('** ** DEBUG: shape: ', numpy.shape(fout.variables[s]))\n",
    "    #\n",
    "    # Instantiate a data variable.\n",
    "    # outf.create_variable('t','f',('time','lat','lon'))\n",
    "    fout.create_variable('U','d',('time', 'alt', 'lat','lon'))\n",
    "    setattr(fout.variables['U'], 'standard_name', 'pressure')\n",
    "    setattr(fout.variables['U'], 'units', 'kPa')\n",
    "    #\n",
    "    print('** DEBUG: time: ', min(fout.variables['time']), max(fout.variables['time']))\n",
    "    print('** DEBUG: lat: ', min(fout.variables['lat']), max(fout.variables['lat']))\n",
    "    # variable assignment:\n",
    "    # This syntax is required for scaler, non-indexed values (or so I have read):\n",
    "    # fout.variables['u'].assign_value(udum)        # this works if dimensions align\n",
    "    #. we can also use it for arrays, but only if we are assigning the whole value -- in other words, the \n",
    "    #. dimensinos must match. (this works if dim(udum)==dim(fout)). I assume the exception is if the output\n",
    "    #. dimension is undefined, all other dimensions must match.\n",
    "    #\n",
    "    # For batched assignment, we can use:\n",
    "    # fout.variables['u'][0:len(udum)] = udum      # use this for partial assignment (note, i think this does allow \n",
    "    #                                            # (aka, will expand) for overflow -- [k,j] > len(fout.variable) )\n",
    "    #  if the dimenstions match, we can use this syntax without \"slice\" indices.\n",
    "    #\n",
    "    # and we might want to close the file here:\n",
    "    print('file created: ')\n",
    "    print(file_report(fout))\n",
    "    #fout.close()\n",
    "#"
   ]
  },
  {
   "cell_type": "code",
   "execution_count": 32,
   "metadata": {},
   "outputs": [],
   "source": [
    "# Assign some values:\n",
    "# NOTE: we could have done this during the 'create' phase, but we want to demonstrate \n",
    "#. opening and closing.\n",
    "with contextlib.closing(Nio.open_file(output_file_path, 'r+')) as fout:\n",
    "    #\n",
    "    # if we just want to make our code work, we can do this:\n",
    "    #fout.variables['U'] = numpy.random.random(size=list(fout.dimensions.values()))\n",
    "    ##\n",
    "    ## and even slightly differentiate the layers:\n",
    "    ## add the index value to each altitude layer, so each layer is ~ 0+u, 1+u, 2+u, ...\n",
    "    ##. (where u is a random number).\n",
    "    #for k in range(0, fout.dimensions['alt']):\n",
    "    #    fout.variables['U'][:,k,:,:] += k\n",
    "    #\n",
    "    # A more interesting example, fromm which we can make some pretty pictures:\n",
    "    # compute some periodic constants:\n",
    "    T_x = scipy.constants.pi/(max(fout.variables['lon']) - min(fout.variables['lon']))\n",
    "    T_y = scipy.constants.pi/(max(fout.variables['lat']) - min(fout.variables['lat']))\n",
    "    T_t = 2.*scipy.constants.pi/(max(fout.variables['time']) - min(fout.variables['time']))\n",
    "    N_pi = numpy.arange(1, fout.dimensions['alt']+1,1)\n",
    "    #\n",
    "    #print('** DEBUG Ts: ', T_x, T_y, N_pi)\n",
    "    #print('** DEBUG: T_t: ', min(fout.variables['time']) , max(fout.variables['time']))\n",
    "    #print('** DEBUG: time2: ', min(fout.variables['time']), max(fout.variables['time']))\n",
    "    #\n",
    "    # Populate the array:\n",
    "    # For 2D arrays, we can use numpy.meshgrid(Xs, Ys) to get a dense n_x x n_y array, but\n",
    "    #. I don't think there is a 2D abstraction. We want to avoid a fully nested loop, unless\n",
    "    #. memory is a restriction.\n",
    "    #\n",
    "    XX, YY = numpy.array(numpy.meshgrid( fout.variables['lon'], fout.variables['lat']) )\n",
    "    XX *= T_x\n",
    "    YY *= T_y\n",
    "    #\n",
    "    # there's a faster, numpy way to do this (rebroadcast as cartesian dimensions), but I'm just going to\n",
    "    #. get it done. (can you meshgrid() nested objects?\n",
    "    #\n",
    "    #print('*** shape:', numpy.shape(fout.variables['U']))\n",
    "    #\n",
    "    # we can probably do this more efficiently using numpy.outer(X,Y); we can nest numpy.outer()\n",
    "    #. calls, and then reshpae(), xx = numpy.outer(X, numpy.outer(Y,Z)).reshape(len(X), len(Y), len(Z)))\n",
    "    #\n",
    "    #\n",
    "    for (k_t, phi),k_z in itertools.product(enumerate(fout.variables['time']*T_t), N_pi):\n",
    "        #\n",
    "        #print('** ** ', k_t, phi, k_z)\n",
    "        #zs = numpy.cos(k_z*XX + phi)*numpy.sin(k_z*YY + phi)\n",
    "        #print('** DEBUG: zs: ', numpy.shape(zs))\n",
    "        fout.variables['U'][k_t, k_z, :,:] = numpy.cos(k_z*XX + phi)*numpy.sin(k_z*YY + phi)\n",
    "        \n",
    "        #if k_z>5: break\n",
    "#\n"
   ]
  },
  {
   "cell_type": "code",
   "execution_count": 33,
   "metadata": {
    "scrolled": false
   },
   "outputs": [
    {
     "data": {
      "image/png": "[encoded data removed]",
      "text/plain": [
       "<Figure size 1152x864 with 4 Axes>"
      ]
     },
     "metadata": {
      "needs_background": "light"
     },
     "output_type": "display_data"
    }
   ],
   "source": [
    "fg = plt.figure(figsize=(16,12))\n",
    "axes = [plt.subplot(2,2,k+1) for k in range(4)]\n",
    "#\n",
    "with contextlib.closing(Nio.open_file(output_file_path, 'r')) as fin:\n",
    "    #\n",
    "    axes[0].imshow(fin.variables['U'][0,1,:,:])\n",
    "    axes[1].imshow(fin.variables['U'][0,7,:,:])\n",
    "    axes[2].imshow(fin.variables['U'][10,1,:,:])\n",
    "    axes[3].imshow(fin.variables['U'][10,7,:,:])"
   ]
  },
  {
   "cell_type": "code",
   "execution_count": 34,
   "metadata": {},
   "outputs": [
    {
     "name": "stdout",
     "output_type": "stream",
     "text": [
      "**  [[ 0  0  0  0]\n",
      " [ 0  1  2  3]\n",
      " [ 0  2  4  6]\n",
      " [ 0  3  6  9]\n",
      " [ 0  4  8 12]]\n",
      "***  [[[ 0  0  0  0]\n",
      "  [ 0  0  0  0]\n",
      "  [ 0  0  0  0]\n",
      "  [ 0  0  0  0]\n",
      "  [ 0  0  0  0]]\n",
      "\n",
      " [[ 0  0  0  0]\n",
      "  [ 0  1  2  3]\n",
      "  [ 0  2  4  6]\n",
      "  [ 0  3  6  9]\n",
      "  [ 0  4  8 12]]\n",
      "\n",
      " [[ 0  0  0  0]\n",
      "  [ 0  2  4  6]\n",
      "  [ 0  4  8 12]\n",
      "  [ 0  6 12 18]\n",
      "  [ 0  8 16 24]]]\n",
      "shape:  (3, 5, 4)\n"
     ]
    }
   ],
   "source": [
    "X = numpy.outer(numpy.arange(5), numpy.arange(4))\n",
    "print('** ', X)\n",
    "XZ = numpy.outer(numpy.arange(3), X).reshape((3,5,4))\n",
    "print('*** ', XZ)\n",
    "print('shape: ', XZ.shape)\n",
    "#\n",
    "# XX,YY = numpy.array(numpy.meshgrid(numpy.arange(5), numpy.arange(10)))\n",
    "# print('** ', XX.shape)\n",
    "# print('** ', XX)\n",
    "# #print('** ', YY)\n",
    "\n",
    "# print('** ** \\n', numpy.outer(numpy.ones(2),XX) )\n",
    "\n",
    "# #with contextlib.closing(Nio.open_file(output_file_path, 'r+')) as fout:\n",
    "# #    print('dims: ', fout.dimensions)\n",
    "\n",
    "\n",
    "\n",
    "# #f = Nio.open_file(output_file_path, 'r')\n",
    "# #print('dims: ', f.dimensions)"
   ]
  },
  {
   "cell_type": "markdown",
   "metadata": {},
   "source": [
    "### netCDF4 version:\n",
    "- For starters, assume we can use the file we created useing Nio.\n",
    "- Then, reproduce the plot(s)\n",
    "- Next, we'll do the whole bit -- create some data, then plot it."
   ]
  },
  {
   "cell_type": "code",
   "execution_count": 35,
   "metadata": {},
   "outputs": [],
   "source": [
    "import netCDF4"
   ]
  },
  {
   "cell_type": "code",
   "execution_count": 40,
   "metadata": {},
   "outputs": [
    {
     "data": {
      "image/png": "[encoded data removed]",
      "text/plain": [
       "<Figure size 1152x864 with 4 Axes>"
      ]
     },
     "metadata": {
      "needs_background": "light"
     },
     "output_type": "display_data"
    }
   ],
   "source": [
    "fg = plt.figure(figsize=(16,12))\n",
    "axes = [plt.subplot(2,2,k+1) for k in range(4)]\n",
    "#\n",
    "with netCDF4.Dataset(output_file_path, 'r') as fin:\n",
    "    #\n",
    "    axes[0].imshow(fin.variables['U'][0,1,:,:])\n",
    "    axes[1].imshow(fin.variables['U'][0,3,:,:])\n",
    "    axes[2].imshow(fin.variables['U'][10,1,:,:])\n",
    "    axes[3].imshow(fin.variables['U'][10,3,:,:])"
   ]
  },
  {
   "cell_type": "markdown",
   "metadata": {},
   "source": [
    "##### Looks good. Now let's do some file create and write."
   ]
  },
  {
   "cell_type": "code",
   "execution_count": 41,
   "metadata": {},
   "outputs": [
    {
     "name": "stdout",
     "output_type": "stream",
     "text": [
      "** ** DEBUG: shape:  (100,)\n",
      "** ** DEBUG: shape:  (10,)\n",
      "** ** DEBUG: shape:  (10,)\n",
      "** ** DEBUG: shape:  (20,)\n",
      "** DEBUG: time:  0.0 99.0\n",
      "** DEBUG: lat:  -90.0 90.0\n",
      "file created: \n",
      "** dims:  [('time', <class 'netCDF4._netCDF4.Dimension'>: name = 'time', size = 100\n",
      "), ('alt', <class 'netCDF4._netCDF4.Dimension'>: name = 'alt', size = 10\n",
      "), ('lat', <class 'netCDF4._netCDF4.Dimension'>: name = 'lat', size = 10\n",
      "), ('lon', <class 'netCDF4._netCDF4.Dimension'>: name = 'lon', size = 20\n",
      ")]\n",
      "** varnames_all:  odict_keys(['time', 'alt', 'lat', 'lon', 'U'])\n",
      "** varnames:  ['U']\n",
      "type(fin.dimensions):  <class 'collections.OrderedDict'>\n",
      "None\n"
     ]
    }
   ],
   "source": [
    "output_file_path_n4 = 'pretend_data_n4.nc'\n",
    "my_lats = numpy.linspace(-90., 90, 10)\n",
    "my_lons = numpy.linspace(-180., 180., 20)\n",
    "my_elevs = numpy.arange(0, 10)*1000.\n",
    "n_timesteps=100\n",
    "my_time_steps = numpy.arange(0., n_timesteps)\n",
    "#\n",
    "if os.path.isfile(output_file_path_n4):\n",
    "    os.system('rm {}'.format(output_file_path))\n",
    "# do we need to delete the file?\n",
    "with netCDF4.Dataset(output_file_path_n4, 'w') as fout:\n",
    "    #\n",
    "    # defne dimensions (note we can use the scritped syntax below):\n",
    "    fout.createDimension('time', n_timesteps)\n",
    "    fout.createDimension('alt', len(my_elevs))\n",
    "    fout.createDimension('lat', len(my_lats))\n",
    "    fout.createDimension('lon', len(my_lons))\n",
    "    #\n",
    "    # assign values to dimension variables (using list scripted syntax)\n",
    "    #\n",
    "    for s,x in zip(['time', 'alt', 'lat', 'lon'], [my_time_steps, my_elevs, my_lats, my_lons]):\n",
    "        #print('** {} / {}'.format(s, fout.dimensions[s]))\n",
    "        #\n",
    "        # note: 1) we provide the dimension of the variable as a tuple\n",
    "        #  2) 'f' is a small float, 'd' is a big float (\"double\"); trying to assign 'd' values\n",
    "        #.  into a type 'f' variable may throw an error (as it does in this case)\n",
    "        #fout.create_variable(s, 'f', (s,) )\n",
    "        fout.createVariable(s, 'd', (s,) )\n",
    "        fout.variables[s][:]=x[:]\n",
    "        #print('** DEBUG: var[{}]: {}'.format(s, fout.variables[s]))\n",
    "        print('** ** DEBUG: shape: ', numpy.shape(fout.variables[s]))\n",
    "    #\n",
    "    # Instantiate a data variable.\n",
    "    # outf.create_variable('t','f',('time','lat','lon'))\n",
    "    fout.createVariable('U','d',('time', 'alt', 'lat','lon'))\n",
    "    setattr(fout.variables['U'], 'standard_name', 'pressure')\n",
    "    setattr(fout.variables['U'], 'units', 'kPa')\n",
    "    #\n",
    "    print('** DEBUG: time: ', min(fout.variables['time']), max(fout.variables['time']))\n",
    "    print('** DEBUG: lat: ', min(fout.variables['lat']), max(fout.variables['lat']))\n",
    "    # variable assignment:\n",
    "    # This syntax is required for scaler, non-indexed values (or so I have read):\n",
    "    # fout.variables['u'].assign_value(udum)        # this works if dimensions align\n",
    "    #. we can also use it for arrays, but only if we are assigning the whole value -- in other words, the \n",
    "    #. dimensinos must match. (this works if dim(udum)==dim(fout)). I assume the exception is if the output\n",
    "    #. dimension is undefined, all other dimensions must match.\n",
    "    #\n",
    "    # For batched assignment, we can use:\n",
    "    # fout.variables['u'][0:len(udum)] = udum      # use this for partial assignment (note, i think this does allow \n",
    "    #                                            # (aka, will expand) for overflow -- [k,j] > len(fout.variable) )\n",
    "    #  if the dimenstions match, we can use this syntax without \"slice\" indices.\n",
    "    #\n",
    "    # and we might want to close the file here:\n",
    "    print('file created: ')\n",
    "    print(file_report(fout))\n",
    "    #fout.close()\n",
    "#"
   ]
  },
  {
   "cell_type": "code",
   "execution_count": 43,
   "metadata": {},
   "outputs": [],
   "source": [
    "# Assign some values:\n",
    "# NOTE: we could have done this during the 'create' phase, but we want to demonstrate \n",
    "#. opening and closing.\n",
    "with contextlib.closing(Nio.open_file(output_file_path_n4, 'r+')) as fout:\n",
    "    #\n",
    "    # if we just want to make our code work, we can do this:\n",
    "    #fout.variables['U'] = numpy.random.random(size=list(fout.dimensions.values()))\n",
    "    ##\n",
    "    ## and even slightly differentiate the layers:\n",
    "    ## add the index value to each altitude layer, so each layer is ~ 0+u, 1+u, 2+u, ...\n",
    "    ##. (where u is a random number).\n",
    "    #for k in range(0, fout.dimensions['alt']):\n",
    "    #    fout.variables['U'][:,k,:,:] += k\n",
    "    #\n",
    "    # A more interesting example, fromm which we can make some pretty pictures:\n",
    "    # compute some periodic constants:\n",
    "    T_x = scipy.constants.pi/(max(fout.variables['lon']) - min(fout.variables['lon']))\n",
    "    T_y = scipy.constants.pi/(max(fout.variables['lat']) - min(fout.variables['lat']))\n",
    "    T_t = 2.*scipy.constants.pi/(max(fout.variables['time']) - min(fout.variables['time']))\n",
    "    N_pi = numpy.arange(1, fout.dimensions['alt']+1,1)\n",
    "    #\n",
    "    # Populate the array:\n",
    "    # For 2D arrays, we can use numpy.meshgrid(Xs, Ys) to get a dense n_x x n_y array, but\n",
    "    #. I don't think there is a 2D abstraction. We want to avoid a fully nested loop, unless\n",
    "    #. memory is a restriction.\n",
    "    #\n",
    "    XX, YY = numpy.array(numpy.meshgrid( fout.variables['lon'], fout.variables['lat']) )\n",
    "    XX *= T_x\n",
    "    YY *= T_y\n",
    "    #\n",
    "    # there's a faster, numpy way to do this (rebroadcast as cartesian dimensions), but I'm just going to\n",
    "    #. get it done. (can you meshgrid() nested objects?\n",
    "    #\n",
    "    #print('*** shape:', numpy.shape(fout.variables['U']))\n",
    "    #\n",
    "    # we can probably do this more efficiently using numpy.outer(X,Y); we can nest numpy.outer()\n",
    "    #. calls, and then reshpae(), xx = numpy.outer(X, numpy.outer(Y,Z)).reshape(len(X), len(Y), len(Z)))\n",
    "    #\n",
    "    #\n",
    "    for (k_t, phi),k_z in itertools.product(enumerate(fout.variables['time']*T_t), N_pi):\n",
    "        #\n",
    "        #print('** ** ', k_t, phi, k_z)\n",
    "        #zs = numpy.cos(k_z*XX + phi)*numpy.sin(k_z*YY + phi)\n",
    "        #print('** DEBUG: zs: ', numpy.shape(zs))\n",
    "        fout.variables['U'][k_t, k_z, :,:] = numpy.cos(k_z*XX + phi)*numpy.sin(k_z*YY + phi)\n",
    "        \n",
    "        #if k_z>5: break\n",
    "#\n"
   ]
  },
  {
   "cell_type": "code",
   "execution_count": 45,
   "metadata": {},
   "outputs": [
    {
     "data": {
      "image/png": "[encoded data removed]",
      "text/plain": [
       "<Figure size 1152x864 with 4 Axes>"
      ]
     },
     "metadata": {
      "needs_background": "light"
     },
     "output_type": "display_data"
    }
   ],
   "source": [
    "fg = plt.figure(figsize=(16,12))\n",
    "axes = [plt.subplot(2,2,k+1) for k in range(4)]\n",
    "#\n",
    "with netCDF4.Dataset(output_file_path_n4, 'r') as fin:\n",
    "    #\n",
    "    axes[0].imshow(fin.variables['U'][0,1,:,:])\n",
    "    axes[1].imshow(fin.variables['U'][0,4,:,:])\n",
    "    axes[2].imshow(fin.variables['U'][10,1,:,:])\n",
    "    axes[3].imshow(fin.variables['U'][10,4,:,:])"
   ]
  },
  {
   "cell_type": "code",
   "execution_count": null,
   "metadata": {},
   "outputs": [],
   "source": []
  }
 ],
 "metadata": {
  "kernelspec": {
   "display_name": "Python [conda env:pyncl]",
   "language": "python",
   "name": "conda-env-pyncl-py"
  },
  "language_info": {
   "codemirror_mode": {
    "name": "ipython",
    "version": 3
   },
   "file_extension": ".py",
   "mimetype": "text/x-python",
   "name": "python",
   "nbconvert_exporter": "python",
   "pygments_lexer": "ipython3",
   "version": "3.7.3"
  }
 },
 "nbformat": 4,
 "nbformat_minor": 2
}
