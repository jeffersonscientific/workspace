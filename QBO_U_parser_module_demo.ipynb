{
 "cells": [
  {
   "cell_type": "code",
   "execution_count": 2,
   "metadata": {},
   "outputs": [
    {
     "name": "stdout",
     "output_type": "stream",
     "text": [
      "The autoreload extension is already loaded. To reload it, use:\n",
      "  %reload_ext autoreload\n"
     ]
    }
   ],
   "source": [
    "%load_ext autoreload\n",
    "%autoreload 2\n",
    "%matplotlib inline\n",
    "\n"
   ]
  },
  {
   "cell_type": "code",
   "execution_count": 3,
   "metadata": {},
   "outputs": [],
   "source": [
    "import QBO_U_parser as qbop\n",
    "\n",
    "import time\n",
    "import os\n"
   ]
  },
  {
   "cell_type": "code",
   "execution_count": 6,
   "metadata": {},
   "outputs": [],
   "source": [
    "fpath_in = '/scratch/yoder'\n",
    "fname_in = 'U_V_T_Z3_plWACCMSC_CTL_122.cam.h2.0001-0202.nc'\n",
    "fpathname_in = os.path.join(fpath_in, fname_in)\n",
    "#\n",
    "fpath_out = '/scratch/yoder'\n",
    "fname_out = None\n",
    "#\n",
    "k=7\n",
    "k=[0,1]\n",
    "#k = [0,1,2]\n",
    "batch_size=2500\n",
    "#kt_max=20000\n",
    "kt_max=None"
   ]
  },
  {
   "cell_type": "code",
   "execution_count": null,
   "metadata": {},
   "outputs": [
    {
     "name": "stdout",
     "output_type": "stream",
     "text": [
      "** DEBUG[75754:65779] running IO-safe(r) version.\n",
      "*** Processing layer indices: [0, 1]\n",
      "** DEBUG[75754:65779] running IO-safe(r) version.\n",
      "** DEBUG: open output file...\n",
      "** DEBUG: [65779:75754]:: dimensions created: 33.43969964981079\n",
      "** DEBUG: [65779:75754]:: variable[U] created (cum time): 33.440085887908936\n",
      "** DEBUG: copying variables[time]: 0-2500/73730.\n",
      "** DEBUG: copying variables[time]: 2500-5000/73730.\n",
      "** DEBUG: copying variables[time]: 5000-7500/73730.\n",
      "** DEBUG: copying variables[time]: 7500-10000/73730.\n",
      "** DEBUG: copying variables[time]: 10000-12500/73730.\n",
      "** DEBUG: copying variables[time]: 12500-15000/73730.\n",
      "** DEBUG: copying variables[time]: 15000-17500/73730.\n",
      "** DEBUG: copying variables[time]: 17500-20000/73730.\n",
      "** DEBUG: copying variables[time]: 20000-22500/73730.\n",
      "** DEBUG: copying variables[time]: 22500-25000/73730.\n",
      "** DEBUG: copying variables[time]: 25000-27500/73730.\n",
      "** DEBUG: copying variables[time]: 27500-30000/73730.\n",
      "** DEBUG: copying variables[time]: 30000-32500/73730.\n",
      "** DEBUG: copying variables[time]: 32500-35000/73730.\n",
      "** DEBUG: copying variables[time]: 35000-37500/73730.\n",
      "** DEBUG: copying variables[time]: 37500-40000/73730.\n",
      "** DEBUG: copying variables[time]: 40000-42500/73730.\n",
      "** DEBUG: copying variables[time]: 42500-45000/73730.\n",
      "** DEBUG: copying variables[time]: 45000-47500/73730.\n",
      "** DEBUG: copying variables[time]: 47500-50000/73730.\n",
      "** DEBUG: copying variables[time]: 50000-52500/73730.\n",
      "** DEBUG: copying variables[time]: 52500-55000/73730.\n",
      "** DEBUG: copying variables[time]: 55000-57500/73730.\n",
      "** DEBUG: copying variables[time]: 57500-60000/73730.\n",
      "** DEBUG: copying variables[time]: 60000-62500/73730.\n",
      "** DEBUG: copying variables[time]: 62500-65000/73730.\n",
      "** DEBUG: copying variables[time]: 65000-67500/73730.\n",
      "** DEBUG: copying variables[time]: 67500-70000/73730.\n",
      "** DEBUG: copying variables[time]: 70000-72500/73730.\n",
      "** DEBUG: copying variables[time]: 72500-73730/73730.\n",
      "** DEBUG: [65779:75754]:: var time written\n",
      "** DEBUG: [65779:75754]:: var lat written\n",
      "** DEBUG: [65779:75754]:: var lon written\n",
      "** DEBUG: (p)pid[65779:75754]:: variables created and assigned (cumulative time): 461.8399133682251\n",
      "** DEBUG: [65779:75754]:: begin k=0/30 batches [0:2500]/73730 :: 49.59825372695923.\n",
      "** DEBUG: [65779:75754]:: begin k=1/30 batches [2500:5000]/73730 :: 24.750531435012817.\n",
      "** DEBUG: [65779:75754]:: begin k=2/30 batches [5000:7500]/73730 :: 24.75449848175049.\n",
      "** DEBUG: [65779:75754]:: begin k=3/30 batches [7500:10000]/73730 :: 24.582943201065063.\n",
      "** DEBUG: [65779:75754]:: begin k=4/30 batches [10000:12500]/73730 :: 24.599297761917114.\n",
      "** DEBUG: [65779:75754]:: begin k=5/30 batches [12500:15000]/73730 :: 23.43537974357605.\n",
      "** DEBUG: [65779:75754]:: begin k=6/30 batches [15000:17500]/73730 :: 23.136110544204712.\n",
      "** DEBUG: [65779:75754]:: begin k=7/30 batches [17500:20000]/73730 :: 625.82239985466.\n",
      "** DEBUG: [65779:75754]:: begin k=8/30 batches [20000:22500]/73730 :: 27.910272359848022.\n",
      "** DEBUG: [65779:75754]:: begin k=9/30 batches [22500:25000]/73730 :: 27.756786346435547.\n",
      "** DEBUG: [65779:75754]:: begin k=10/30 batches [25000:27500]/73730 :: 28.295438289642334.\n",
      "** DEBUG: [65779:75754]:: begin k=11/30 batches [27500:30000]/73730 :: 30.144107580184937.\n",
      "** DEBUG: [65779:75754]:: begin k=12/30 batches [30000:32500]/73730 :: 31.52291750907898.\n",
      "** DEBUG: [65779:75754]:: begin k=13/30 batches [32500:35000]/73730 :: 29.976492166519165.\n",
      "** DEBUG: [65779:75754]:: begin k=14/30 batches [35000:37500]/73730 :: 30.84399437904358.\n",
      "** DEBUG: [65779:75754]:: begin k=15/30 batches [37500:40000]/73730 :: 31.640784740447998.\n",
      "** DEBUG: [65779:75754]:: begin k=16/30 batches [40000:42500]/73730 :: 31.209778785705566.\n",
      "** DEBUG: [65779:75754]:: begin k=17/30 batches [42500:45000]/73730 :: 30.460494995117188.\n",
      "** DEBUG: [65779:75754]:: begin k=18/30 batches [45000:47500]/73730 :: 28.785208225250244.\n",
      "** DEBUG: [65779:75754]:: begin k=19/30 batches [47500:50000]/73730 :: 28.46582555770874.\n",
      "** DEBUG: [65779:75754]:: begin k=20/30 batches [50000:52500]/73730 :: 29.750698566436768.\n",
      "** DEBUG: [65779:75754]:: begin k=21/30 batches [52500:55000]/73730 :: 30.16317868232727.\n",
      "** DEBUG: [65779:75754]:: begin k=22/30 batches [55000:57500]/73730 :: 33.00577187538147.\n",
      "** DEBUG: [65779:75754]:: begin k=23/30 batches [57500:60000]/73730 :: 31.694840669631958.\n",
      "** DEBUG: [65779:75754]:: begin k=24/30 batches [60000:62500]/73730 :: 32.32029151916504.\n",
      "** DEBUG: [65779:75754]:: begin k=25/30 batches [62500:65000]/73730 :: 30.473856210708618.\n",
      "** DEBUG: [65779:75754]:: begin k=26/30 batches [65000:67500]/73730 :: 30.919269800186157.\n",
      "** DEBUG: [65779:75754]:: begin k=27/30 batches [67500:70000]/73730 :: 22.56351065635681.\n",
      "** DEBUG: [65779:75754]:: begin k=28/30 batches [70000:72500]/73730 :: 28.075289249420166.\n",
      "** DEBUG: [65779:75754]:: begin k=29/30 batches [72500:73730]/73730 :: 12.379226922988892.\n",
      "*** layer [0] complete; elapsed time: 1920.8789162635803\n",
      "** DEBUG[75754:65779] running IO-safe(r) version.\n",
      "** DEBUG: open output file...\n",
      "** DEBUG: [65779:75754]:: dimensions created: 0.016782760620117188\n",
      "** DEBUG: [65779:75754]:: variable[U] created (cum time): 0.017094135284423828\n"
     ]
    }
   ],
   "source": [
    "#\n",
    "t0 = time.time()\n",
    "#\n",
    "# xx = qbop.copy_U_from_QBO_layer(layer_index=k, fpathname_src=fpathname_in, fpath_dest=fpath_out,\n",
    "#                                 fname_dest=None, batch_size=None,\n",
    "#                          kt_0=0, kt_max=kt_max, verbose=1, n_cpu=3)\n",
    "xx = qbop.copy_U_from_QBO_layer_iosafer(layer_index=k, fpathname_src=fpathname_in, fpath_dest=fpath_out,\n",
    "                                fname_dest=None, batch_size=batch_size,\n",
    "                         kt_0=0, kt_max=kt_max, verbose=1, n_cpu=1, n_tries=10)\n",
    "#\n",
    "print('elapsed time: ', time.time()-t0)"
   ]
  },
  {
   "cell_type": "code",
   "execution_count": null,
   "metadata": {},
   "outputs": [],
   "source": []
  },
  {
   "cell_type": "code",
   "execution_count": null,
   "metadata": {},
   "outputs": [],
   "source": []
  }
 ],
 "metadata": {
  "kernelspec": {
   "display_name": "Python [conda env:ncl_stable]",
   "language": "python",
   "name": "conda-env-ncl_stable-py"
  },
  "language_info": {
   "codemirror_mode": {
    "name": "ipython",
    "version": 3
   },
   "file_extension": ".py",
   "mimetype": "text/x-python",
   "name": "python",
   "nbconvert_exporter": "python",
   "pygments_lexer": "ipython3",
   "version": "3.7.3"
  }
 },
 "nbformat": 4,
 "nbformat_minor": 2
}
